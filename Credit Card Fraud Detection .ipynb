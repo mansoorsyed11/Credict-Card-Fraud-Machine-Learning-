{
 "cells": [
  {
   "cell_type": "code",
   "execution_count": 1,
   "id": "b19bf55a",
   "metadata": {},
   "outputs": [],
   "source": [
    "import pandas as pd\n",
    "import numpy as np\n",
    "\n",
    "import matplotlib.pyplot as plt\n",
    "import seaborn as sns\n",
    "import time\n",
    "\n",
    "from sklearn.model_selection import train_test_split\n",
    "from sklearn.preprocessing import StandardScaler\n",
    "from sklearn.tree import DecisionTreeClassifier\n",
    "from sklearn.ensemble import RandomForestClassifier\n",
    "from sklearn.linear_model import LogisticRegression\n",
    "from sklearn.neighbors import KNeighborsClassifier\n",
    "from sklearn.svm import SVC\n",
    "from sklearn.metrics import confusion_matrix, accuracy_score, f1_score, classification_report\n",
    "\n",
    "import warnings\n",
    "warnings.filterwarnings('ignore')"
   ]
  },
  {
   "cell_type": "code",
   "execution_count": 2,
   "id": "da12dd09",
   "metadata": {},
   "outputs": [],
   "source": [
    "df = pd.read_csv(\"creditcard.csv\")"
   ]
  },
  {
   "cell_type": "code",
   "execution_count": 3,
   "id": "2e508a64",
   "metadata": {},
   "outputs": [
    {
     "data": {
      "text/html": [
       "<div>\n",
       "<style scoped>\n",
       "    .dataframe tbody tr th:only-of-type {\n",
       "        vertical-align: middle;\n",
       "    }\n",
       "\n",
       "    .dataframe tbody tr th {\n",
       "        vertical-align: top;\n",
       "    }\n",
       "\n",
       "    .dataframe thead th {\n",
       "        text-align: right;\n",
       "    }\n",
       "</style>\n",
       "<table border=\"1\" class=\"dataframe\">\n",
       "  <thead>\n",
       "    <tr style=\"text-align: right;\">\n",
       "      <th></th>\n",
       "      <th>Time</th>\n",
       "      <th>V1</th>\n",
       "      <th>V2</th>\n",
       "      <th>V3</th>\n",
       "      <th>V4</th>\n",
       "      <th>V5</th>\n",
       "      <th>V6</th>\n",
       "      <th>V7</th>\n",
       "      <th>V8</th>\n",
       "      <th>V9</th>\n",
       "      <th>...</th>\n",
       "      <th>V21</th>\n",
       "      <th>V22</th>\n",
       "      <th>V23</th>\n",
       "      <th>V24</th>\n",
       "      <th>V25</th>\n",
       "      <th>V26</th>\n",
       "      <th>V27</th>\n",
       "      <th>V28</th>\n",
       "      <th>Amount</th>\n",
       "      <th>Class</th>\n",
       "    </tr>\n",
       "  </thead>\n",
       "  <tbody>\n",
       "    <tr>\n",
       "      <th>0</th>\n",
       "      <td>0.0</td>\n",
       "      <td>-1.359807</td>\n",
       "      <td>-0.072781</td>\n",
       "      <td>2.536347</td>\n",
       "      <td>1.378155</td>\n",
       "      <td>-0.338321</td>\n",
       "      <td>0.462388</td>\n",
       "      <td>0.239599</td>\n",
       "      <td>0.098698</td>\n",
       "      <td>0.363787</td>\n",
       "      <td>...</td>\n",
       "      <td>-0.018307</td>\n",
       "      <td>0.277838</td>\n",
       "      <td>-0.110474</td>\n",
       "      <td>0.066928</td>\n",
       "      <td>0.128539</td>\n",
       "      <td>-0.189115</td>\n",
       "      <td>0.133558</td>\n",
       "      <td>-0.021053</td>\n",
       "      <td>149.62</td>\n",
       "      <td>0</td>\n",
       "    </tr>\n",
       "    <tr>\n",
       "      <th>1</th>\n",
       "      <td>0.0</td>\n",
       "      <td>1.191857</td>\n",
       "      <td>0.266151</td>\n",
       "      <td>0.166480</td>\n",
       "      <td>0.448154</td>\n",
       "      <td>0.060018</td>\n",
       "      <td>-0.082361</td>\n",
       "      <td>-0.078803</td>\n",
       "      <td>0.085102</td>\n",
       "      <td>-0.255425</td>\n",
       "      <td>...</td>\n",
       "      <td>-0.225775</td>\n",
       "      <td>-0.638672</td>\n",
       "      <td>0.101288</td>\n",
       "      <td>-0.339846</td>\n",
       "      <td>0.167170</td>\n",
       "      <td>0.125895</td>\n",
       "      <td>-0.008983</td>\n",
       "      <td>0.014724</td>\n",
       "      <td>2.69</td>\n",
       "      <td>0</td>\n",
       "    </tr>\n",
       "    <tr>\n",
       "      <th>2</th>\n",
       "      <td>1.0</td>\n",
       "      <td>-1.358354</td>\n",
       "      <td>-1.340163</td>\n",
       "      <td>1.773209</td>\n",
       "      <td>0.379780</td>\n",
       "      <td>-0.503198</td>\n",
       "      <td>1.800499</td>\n",
       "      <td>0.791461</td>\n",
       "      <td>0.247676</td>\n",
       "      <td>-1.514654</td>\n",
       "      <td>...</td>\n",
       "      <td>0.247998</td>\n",
       "      <td>0.771679</td>\n",
       "      <td>0.909412</td>\n",
       "      <td>-0.689281</td>\n",
       "      <td>-0.327642</td>\n",
       "      <td>-0.139097</td>\n",
       "      <td>-0.055353</td>\n",
       "      <td>-0.059752</td>\n",
       "      <td>378.66</td>\n",
       "      <td>0</td>\n",
       "    </tr>\n",
       "    <tr>\n",
       "      <th>3</th>\n",
       "      <td>1.0</td>\n",
       "      <td>-0.966272</td>\n",
       "      <td>-0.185226</td>\n",
       "      <td>1.792993</td>\n",
       "      <td>-0.863291</td>\n",
       "      <td>-0.010309</td>\n",
       "      <td>1.247203</td>\n",
       "      <td>0.237609</td>\n",
       "      <td>0.377436</td>\n",
       "      <td>-1.387024</td>\n",
       "      <td>...</td>\n",
       "      <td>-0.108300</td>\n",
       "      <td>0.005274</td>\n",
       "      <td>-0.190321</td>\n",
       "      <td>-1.175575</td>\n",
       "      <td>0.647376</td>\n",
       "      <td>-0.221929</td>\n",
       "      <td>0.062723</td>\n",
       "      <td>0.061458</td>\n",
       "      <td>123.50</td>\n",
       "      <td>0</td>\n",
       "    </tr>\n",
       "    <tr>\n",
       "      <th>4</th>\n",
       "      <td>2.0</td>\n",
       "      <td>-1.158233</td>\n",
       "      <td>0.877737</td>\n",
       "      <td>1.548718</td>\n",
       "      <td>0.403034</td>\n",
       "      <td>-0.407193</td>\n",
       "      <td>0.095921</td>\n",
       "      <td>0.592941</td>\n",
       "      <td>-0.270533</td>\n",
       "      <td>0.817739</td>\n",
       "      <td>...</td>\n",
       "      <td>-0.009431</td>\n",
       "      <td>0.798278</td>\n",
       "      <td>-0.137458</td>\n",
       "      <td>0.141267</td>\n",
       "      <td>-0.206010</td>\n",
       "      <td>0.502292</td>\n",
       "      <td>0.219422</td>\n",
       "      <td>0.215153</td>\n",
       "      <td>69.99</td>\n",
       "      <td>0</td>\n",
       "    </tr>\n",
       "  </tbody>\n",
       "</table>\n",
       "<p>5 rows × 31 columns</p>\n",
       "</div>"
      ],
      "text/plain": [
       "   Time        V1        V2        V3        V4        V5        V6        V7  \\\n",
       "0   0.0 -1.359807 -0.072781  2.536347  1.378155 -0.338321  0.462388  0.239599   \n",
       "1   0.0  1.191857  0.266151  0.166480  0.448154  0.060018 -0.082361 -0.078803   \n",
       "2   1.0 -1.358354 -1.340163  1.773209  0.379780 -0.503198  1.800499  0.791461   \n",
       "3   1.0 -0.966272 -0.185226  1.792993 -0.863291 -0.010309  1.247203  0.237609   \n",
       "4   2.0 -1.158233  0.877737  1.548718  0.403034 -0.407193  0.095921  0.592941   \n",
       "\n",
       "         V8        V9  ...       V21       V22       V23       V24       V25  \\\n",
       "0  0.098698  0.363787  ... -0.018307  0.277838 -0.110474  0.066928  0.128539   \n",
       "1  0.085102 -0.255425  ... -0.225775 -0.638672  0.101288 -0.339846  0.167170   \n",
       "2  0.247676 -1.514654  ...  0.247998  0.771679  0.909412 -0.689281 -0.327642   \n",
       "3  0.377436 -1.387024  ... -0.108300  0.005274 -0.190321 -1.175575  0.647376   \n",
       "4 -0.270533  0.817739  ... -0.009431  0.798278 -0.137458  0.141267 -0.206010   \n",
       "\n",
       "        V26       V27       V28  Amount  Class  \n",
       "0 -0.189115  0.133558 -0.021053  149.62      0  \n",
       "1  0.125895 -0.008983  0.014724    2.69      0  \n",
       "2 -0.139097 -0.055353 -0.059752  378.66      0  \n",
       "3 -0.221929  0.062723  0.061458  123.50      0  \n",
       "4  0.502292  0.219422  0.215153   69.99      0  \n",
       "\n",
       "[5 rows x 31 columns]"
      ]
     },
     "execution_count": 3,
     "metadata": {},
     "output_type": "execute_result"
    }
   ],
   "source": [
    "df.head()"
   ]
  },
  {
   "cell_type": "code",
   "execution_count": 4,
   "id": "de211d7a",
   "metadata": {},
   "outputs": [],
   "source": [
    "df.drop('Time', axis=1, inplace=True)"
   ]
  },
  {
   "cell_type": "code",
   "execution_count": 5,
   "id": "e5d884d3",
   "metadata": {},
   "outputs": [
    {
     "data": {
      "text/plain": [
       "9144"
      ]
     },
     "execution_count": 5,
     "metadata": {},
     "output_type": "execute_result"
    }
   ],
   "source": [
    "df.duplicated(keep ='first').sum()"
   ]
  },
  {
   "cell_type": "code",
   "execution_count": 6,
   "id": "40ffb324",
   "metadata": {},
   "outputs": [
    {
     "data": {
      "text/html": [
       "<div>\n",
       "<style scoped>\n",
       "    .dataframe tbody tr th:only-of-type {\n",
       "        vertical-align: middle;\n",
       "    }\n",
       "\n",
       "    .dataframe tbody tr th {\n",
       "        vertical-align: top;\n",
       "    }\n",
       "\n",
       "    .dataframe thead th {\n",
       "        text-align: right;\n",
       "    }\n",
       "</style>\n",
       "<table border=\"1\" class=\"dataframe\">\n",
       "  <thead>\n",
       "    <tr style=\"text-align: right;\">\n",
       "      <th></th>\n",
       "      <th>V1</th>\n",
       "      <th>V2</th>\n",
       "      <th>V3</th>\n",
       "      <th>V4</th>\n",
       "      <th>V5</th>\n",
       "      <th>V6</th>\n",
       "      <th>V7</th>\n",
       "      <th>V8</th>\n",
       "      <th>V9</th>\n",
       "      <th>V10</th>\n",
       "      <th>...</th>\n",
       "      <th>V21</th>\n",
       "      <th>V22</th>\n",
       "      <th>V23</th>\n",
       "      <th>V24</th>\n",
       "      <th>V25</th>\n",
       "      <th>V26</th>\n",
       "      <th>V27</th>\n",
       "      <th>V28</th>\n",
       "      <th>Amount</th>\n",
       "      <th>Class</th>\n",
       "    </tr>\n",
       "  </thead>\n",
       "  <tbody>\n",
       "    <tr>\n",
       "      <th>33</th>\n",
       "      <td>-0.529912</td>\n",
       "      <td>0.873892</td>\n",
       "      <td>1.347247</td>\n",
       "      <td>0.145457</td>\n",
       "      <td>0.414209</td>\n",
       "      <td>0.100223</td>\n",
       "      <td>0.711206</td>\n",
       "      <td>0.176066</td>\n",
       "      <td>-0.286717</td>\n",
       "      <td>-0.484688</td>\n",
       "      <td>...</td>\n",
       "      <td>0.046949</td>\n",
       "      <td>0.208105</td>\n",
       "      <td>-0.185548</td>\n",
       "      <td>0.001031</td>\n",
       "      <td>0.098816</td>\n",
       "      <td>-0.552904</td>\n",
       "      <td>-0.073288</td>\n",
       "      <td>0.023307</td>\n",
       "      <td>6.14</td>\n",
       "      <td>0</td>\n",
       "    </tr>\n",
       "    <tr>\n",
       "      <th>35</th>\n",
       "      <td>-0.535388</td>\n",
       "      <td>0.865268</td>\n",
       "      <td>1.351076</td>\n",
       "      <td>0.147575</td>\n",
       "      <td>0.433680</td>\n",
       "      <td>0.086983</td>\n",
       "      <td>0.693039</td>\n",
       "      <td>0.179742</td>\n",
       "      <td>-0.285642</td>\n",
       "      <td>-0.482474</td>\n",
       "      <td>...</td>\n",
       "      <td>0.049526</td>\n",
       "      <td>0.206537</td>\n",
       "      <td>-0.187108</td>\n",
       "      <td>0.000753</td>\n",
       "      <td>0.098117</td>\n",
       "      <td>-0.553471</td>\n",
       "      <td>-0.078306</td>\n",
       "      <td>0.025427</td>\n",
       "      <td>1.77</td>\n",
       "      <td>0</td>\n",
       "    </tr>\n",
       "    <tr>\n",
       "      <th>113</th>\n",
       "      <td>1.038370</td>\n",
       "      <td>0.127486</td>\n",
       "      <td>0.184456</td>\n",
       "      <td>1.109950</td>\n",
       "      <td>0.441699</td>\n",
       "      <td>0.945283</td>\n",
       "      <td>-0.036715</td>\n",
       "      <td>0.350995</td>\n",
       "      <td>0.118950</td>\n",
       "      <td>-0.243289</td>\n",
       "      <td>...</td>\n",
       "      <td>0.102520</td>\n",
       "      <td>0.605089</td>\n",
       "      <td>0.023092</td>\n",
       "      <td>-0.626463</td>\n",
       "      <td>0.479120</td>\n",
       "      <td>-0.166937</td>\n",
       "      <td>0.081247</td>\n",
       "      <td>0.001192</td>\n",
       "      <td>1.18</td>\n",
       "      <td>0</td>\n",
       "    </tr>\n",
       "    <tr>\n",
       "      <th>114</th>\n",
       "      <td>1.038370</td>\n",
       "      <td>0.127486</td>\n",
       "      <td>0.184456</td>\n",
       "      <td>1.109950</td>\n",
       "      <td>0.441699</td>\n",
       "      <td>0.945283</td>\n",
       "      <td>-0.036715</td>\n",
       "      <td>0.350995</td>\n",
       "      <td>0.118950</td>\n",
       "      <td>-0.243289</td>\n",
       "      <td>...</td>\n",
       "      <td>0.102520</td>\n",
       "      <td>0.605089</td>\n",
       "      <td>0.023092</td>\n",
       "      <td>-0.626463</td>\n",
       "      <td>0.479120</td>\n",
       "      <td>-0.166937</td>\n",
       "      <td>0.081247</td>\n",
       "      <td>0.001192</td>\n",
       "      <td>1.18</td>\n",
       "      <td>0</td>\n",
       "    </tr>\n",
       "    <tr>\n",
       "      <th>115</th>\n",
       "      <td>1.038370</td>\n",
       "      <td>0.127486</td>\n",
       "      <td>0.184456</td>\n",
       "      <td>1.109950</td>\n",
       "      <td>0.441699</td>\n",
       "      <td>0.945283</td>\n",
       "      <td>-0.036715</td>\n",
       "      <td>0.350995</td>\n",
       "      <td>0.118950</td>\n",
       "      <td>-0.243289</td>\n",
       "      <td>...</td>\n",
       "      <td>0.102520</td>\n",
       "      <td>0.605089</td>\n",
       "      <td>0.023092</td>\n",
       "      <td>-0.626463</td>\n",
       "      <td>0.479120</td>\n",
       "      <td>-0.166937</td>\n",
       "      <td>0.081247</td>\n",
       "      <td>0.001192</td>\n",
       "      <td>1.18</td>\n",
       "      <td>0</td>\n",
       "    </tr>\n",
       "    <tr>\n",
       "      <th>...</th>\n",
       "      <td>...</td>\n",
       "      <td>...</td>\n",
       "      <td>...</td>\n",
       "      <td>...</td>\n",
       "      <td>...</td>\n",
       "      <td>...</td>\n",
       "      <td>...</td>\n",
       "      <td>...</td>\n",
       "      <td>...</td>\n",
       "      <td>...</td>\n",
       "      <td>...</td>\n",
       "      <td>...</td>\n",
       "      <td>...</td>\n",
       "      <td>...</td>\n",
       "      <td>...</td>\n",
       "      <td>...</td>\n",
       "      <td>...</td>\n",
       "      <td>...</td>\n",
       "      <td>...</td>\n",
       "      <td>...</td>\n",
       "      <td>...</td>\n",
       "    </tr>\n",
       "    <tr>\n",
       "      <th>284708</th>\n",
       "      <td>2.018105</td>\n",
       "      <td>0.073226</td>\n",
       "      <td>-1.615154</td>\n",
       "      <td>0.351058</td>\n",
       "      <td>0.333905</td>\n",
       "      <td>-0.676284</td>\n",
       "      <td>0.050474</td>\n",
       "      <td>-0.071028</td>\n",
       "      <td>0.302728</td>\n",
       "      <td>-0.193920</td>\n",
       "      <td>...</td>\n",
       "      <td>-0.306646</td>\n",
       "      <td>-0.841768</td>\n",
       "      <td>0.356773</td>\n",
       "      <td>0.655112</td>\n",
       "      <td>-0.331463</td>\n",
       "      <td>0.144352</td>\n",
       "      <td>-0.069820</td>\n",
       "      <td>-0.039845</td>\n",
       "      <td>1.98</td>\n",
       "      <td>0</td>\n",
       "    </tr>\n",
       "    <tr>\n",
       "      <th>284751</th>\n",
       "      <td>2.050734</td>\n",
       "      <td>-0.364010</td>\n",
       "      <td>-2.542843</td>\n",
       "      <td>-0.729357</td>\n",
       "      <td>2.388455</td>\n",
       "      <td>3.318015</td>\n",
       "      <td>-0.479138</td>\n",
       "      <td>0.791559</td>\n",
       "      <td>0.403374</td>\n",
       "      <td>0.093232</td>\n",
       "      <td>...</td>\n",
       "      <td>-0.293363</td>\n",
       "      <td>-0.834802</td>\n",
       "      <td>0.381740</td>\n",
       "      <td>0.698179</td>\n",
       "      <td>-0.264798</td>\n",
       "      <td>0.219275</td>\n",
       "      <td>-0.052131</td>\n",
       "      <td>-0.066940</td>\n",
       "      <td>0.89</td>\n",
       "      <td>0</td>\n",
       "    </tr>\n",
       "    <tr>\n",
       "      <th>284775</th>\n",
       "      <td>1.955547</td>\n",
       "      <td>-0.724606</td>\n",
       "      <td>-1.706511</td>\n",
       "      <td>-0.611145</td>\n",
       "      <td>1.710907</td>\n",
       "      <td>3.914215</td>\n",
       "      <td>-1.248690</td>\n",
       "      <td>1.054133</td>\n",
       "      <td>1.314064</td>\n",
       "      <td>-0.150553</td>\n",
       "      <td>...</td>\n",
       "      <td>0.193605</td>\n",
       "      <td>0.690196</td>\n",
       "      <td>0.155951</td>\n",
       "      <td>0.726775</td>\n",
       "      <td>-0.061219</td>\n",
       "      <td>-0.192666</td>\n",
       "      <td>0.060347</td>\n",
       "      <td>-0.042323</td>\n",
       "      <td>12.99</td>\n",
       "      <td>0</td>\n",
       "    </tr>\n",
       "    <tr>\n",
       "      <th>284785</th>\n",
       "      <td>0.032887</td>\n",
       "      <td>0.545338</td>\n",
       "      <td>-1.185844</td>\n",
       "      <td>-1.729828</td>\n",
       "      <td>2.932315</td>\n",
       "      <td>3.401529</td>\n",
       "      <td>0.337434</td>\n",
       "      <td>0.925377</td>\n",
       "      <td>-0.165663</td>\n",
       "      <td>-0.386953</td>\n",
       "      <td>...</td>\n",
       "      <td>-0.266113</td>\n",
       "      <td>-0.716336</td>\n",
       "      <td>0.108519</td>\n",
       "      <td>0.688519</td>\n",
       "      <td>-0.460220</td>\n",
       "      <td>0.161939</td>\n",
       "      <td>0.265368</td>\n",
       "      <td>0.090245</td>\n",
       "      <td>1.79</td>\n",
       "      <td>0</td>\n",
       "    </tr>\n",
       "    <tr>\n",
       "      <th>284793</th>\n",
       "      <td>1.971002</td>\n",
       "      <td>-0.699067</td>\n",
       "      <td>-1.697541</td>\n",
       "      <td>-0.617643</td>\n",
       "      <td>1.718797</td>\n",
       "      <td>3.911336</td>\n",
       "      <td>-1.259306</td>\n",
       "      <td>1.056209</td>\n",
       "      <td>1.315006</td>\n",
       "      <td>-0.146827</td>\n",
       "      <td>...</td>\n",
       "      <td>0.188758</td>\n",
       "      <td>0.694418</td>\n",
       "      <td>0.163002</td>\n",
       "      <td>0.726365</td>\n",
       "      <td>-0.058282</td>\n",
       "      <td>-0.191813</td>\n",
       "      <td>0.061858</td>\n",
       "      <td>-0.043716</td>\n",
       "      <td>4.99</td>\n",
       "      <td>0</td>\n",
       "    </tr>\n",
       "  </tbody>\n",
       "</table>\n",
       "<p>9144 rows × 30 columns</p>\n",
       "</div>"
      ],
      "text/plain": [
       "              V1        V2        V3        V4        V5        V6        V7  \\\n",
       "33     -0.529912  0.873892  1.347247  0.145457  0.414209  0.100223  0.711206   \n",
       "35     -0.535388  0.865268  1.351076  0.147575  0.433680  0.086983  0.693039   \n",
       "113     1.038370  0.127486  0.184456  1.109950  0.441699  0.945283 -0.036715   \n",
       "114     1.038370  0.127486  0.184456  1.109950  0.441699  0.945283 -0.036715   \n",
       "115     1.038370  0.127486  0.184456  1.109950  0.441699  0.945283 -0.036715   \n",
       "...          ...       ...       ...       ...       ...       ...       ...   \n",
       "284708  2.018105  0.073226 -1.615154  0.351058  0.333905 -0.676284  0.050474   \n",
       "284751  2.050734 -0.364010 -2.542843 -0.729357  2.388455  3.318015 -0.479138   \n",
       "284775  1.955547 -0.724606 -1.706511 -0.611145  1.710907  3.914215 -1.248690   \n",
       "284785  0.032887  0.545338 -1.185844 -1.729828  2.932315  3.401529  0.337434   \n",
       "284793  1.971002 -0.699067 -1.697541 -0.617643  1.718797  3.911336 -1.259306   \n",
       "\n",
       "              V8        V9       V10  ...       V21       V22       V23  \\\n",
       "33      0.176066 -0.286717 -0.484688  ...  0.046949  0.208105 -0.185548   \n",
       "35      0.179742 -0.285642 -0.482474  ...  0.049526  0.206537 -0.187108   \n",
       "113     0.350995  0.118950 -0.243289  ...  0.102520  0.605089  0.023092   \n",
       "114     0.350995  0.118950 -0.243289  ...  0.102520  0.605089  0.023092   \n",
       "115     0.350995  0.118950 -0.243289  ...  0.102520  0.605089  0.023092   \n",
       "...          ...       ...       ...  ...       ...       ...       ...   \n",
       "284708 -0.071028  0.302728 -0.193920  ... -0.306646 -0.841768  0.356773   \n",
       "284751  0.791559  0.403374  0.093232  ... -0.293363 -0.834802  0.381740   \n",
       "284775  1.054133  1.314064 -0.150553  ...  0.193605  0.690196  0.155951   \n",
       "284785  0.925377 -0.165663 -0.386953  ... -0.266113 -0.716336  0.108519   \n",
       "284793  1.056209  1.315006 -0.146827  ...  0.188758  0.694418  0.163002   \n",
       "\n",
       "             V24       V25       V26       V27       V28  Amount  Class  \n",
       "33      0.001031  0.098816 -0.552904 -0.073288  0.023307    6.14      0  \n",
       "35      0.000753  0.098117 -0.553471 -0.078306  0.025427    1.77      0  \n",
       "113    -0.626463  0.479120 -0.166937  0.081247  0.001192    1.18      0  \n",
       "114    -0.626463  0.479120 -0.166937  0.081247  0.001192    1.18      0  \n",
       "115    -0.626463  0.479120 -0.166937  0.081247  0.001192    1.18      0  \n",
       "...          ...       ...       ...       ...       ...     ...    ...  \n",
       "284708  0.655112 -0.331463  0.144352 -0.069820 -0.039845    1.98      0  \n",
       "284751  0.698179 -0.264798  0.219275 -0.052131 -0.066940    0.89      0  \n",
       "284775  0.726775 -0.061219 -0.192666  0.060347 -0.042323   12.99      0  \n",
       "284785  0.688519 -0.460220  0.161939  0.265368  0.090245    1.79      0  \n",
       "284793  0.726365 -0.058282 -0.191813  0.061858 -0.043716    4.99      0  \n",
       "\n",
       "[9144 rows x 30 columns]"
      ]
     },
     "execution_count": 6,
     "metadata": {},
     "output_type": "execute_result"
    }
   ],
   "source": [
    "df[df.duplicated()]"
   ]
  },
  {
   "cell_type": "code",
   "execution_count": 7,
   "id": "d88a815e",
   "metadata": {},
   "outputs": [
    {
     "data": {
      "text/html": [
       "<div>\n",
       "<style scoped>\n",
       "    .dataframe tbody tr th:only-of-type {\n",
       "        vertical-align: middle;\n",
       "    }\n",
       "\n",
       "    .dataframe tbody tr th {\n",
       "        vertical-align: top;\n",
       "    }\n",
       "\n",
       "    .dataframe thead th {\n",
       "        text-align: right;\n",
       "    }\n",
       "</style>\n",
       "<table border=\"1\" class=\"dataframe\">\n",
       "  <thead>\n",
       "    <tr style=\"text-align: right;\">\n",
       "      <th></th>\n",
       "      <th>V1</th>\n",
       "      <th>V2</th>\n",
       "      <th>V3</th>\n",
       "      <th>V4</th>\n",
       "      <th>V5</th>\n",
       "      <th>V6</th>\n",
       "      <th>V7</th>\n",
       "      <th>V8</th>\n",
       "      <th>V9</th>\n",
       "      <th>V10</th>\n",
       "      <th>...</th>\n",
       "      <th>V21</th>\n",
       "      <th>V22</th>\n",
       "      <th>V23</th>\n",
       "      <th>V24</th>\n",
       "      <th>V25</th>\n",
       "      <th>V26</th>\n",
       "      <th>V27</th>\n",
       "      <th>V28</th>\n",
       "      <th>Amount</th>\n",
       "      <th>Class</th>\n",
       "    </tr>\n",
       "  </thead>\n",
       "  <tbody>\n",
       "    <tr>\n",
       "      <th>33</th>\n",
       "      <td>-0.529912</td>\n",
       "      <td>0.873892</td>\n",
       "      <td>1.347247</td>\n",
       "      <td>0.145457</td>\n",
       "      <td>0.414209</td>\n",
       "      <td>0.100223</td>\n",
       "      <td>0.711206</td>\n",
       "      <td>0.176066</td>\n",
       "      <td>-0.286717</td>\n",
       "      <td>-0.484688</td>\n",
       "      <td>...</td>\n",
       "      <td>0.046949</td>\n",
       "      <td>0.208105</td>\n",
       "      <td>-0.185548</td>\n",
       "      <td>0.001031</td>\n",
       "      <td>0.098816</td>\n",
       "      <td>-0.552904</td>\n",
       "      <td>-0.073288</td>\n",
       "      <td>0.023307</td>\n",
       "      <td>6.14</td>\n",
       "      <td>0</td>\n",
       "    </tr>\n",
       "    <tr>\n",
       "      <th>34</th>\n",
       "      <td>-0.535388</td>\n",
       "      <td>0.865268</td>\n",
       "      <td>1.351076</td>\n",
       "      <td>0.147575</td>\n",
       "      <td>0.433680</td>\n",
       "      <td>0.086983</td>\n",
       "      <td>0.693039</td>\n",
       "      <td>0.179742</td>\n",
       "      <td>-0.285642</td>\n",
       "      <td>-0.482474</td>\n",
       "      <td>...</td>\n",
       "      <td>0.049526</td>\n",
       "      <td>0.206537</td>\n",
       "      <td>-0.187108</td>\n",
       "      <td>0.000753</td>\n",
       "      <td>0.098117</td>\n",
       "      <td>-0.553471</td>\n",
       "      <td>-0.078306</td>\n",
       "      <td>0.025427</td>\n",
       "      <td>1.77</td>\n",
       "      <td>0</td>\n",
       "    </tr>\n",
       "    <tr>\n",
       "      <th>35</th>\n",
       "      <td>-0.535388</td>\n",
       "      <td>0.865268</td>\n",
       "      <td>1.351076</td>\n",
       "      <td>0.147575</td>\n",
       "      <td>0.433680</td>\n",
       "      <td>0.086983</td>\n",
       "      <td>0.693039</td>\n",
       "      <td>0.179742</td>\n",
       "      <td>-0.285642</td>\n",
       "      <td>-0.482474</td>\n",
       "      <td>...</td>\n",
       "      <td>0.049526</td>\n",
       "      <td>0.206537</td>\n",
       "      <td>-0.187108</td>\n",
       "      <td>0.000753</td>\n",
       "      <td>0.098117</td>\n",
       "      <td>-0.553471</td>\n",
       "      <td>-0.078306</td>\n",
       "      <td>0.025427</td>\n",
       "      <td>1.77</td>\n",
       "      <td>0</td>\n",
       "    </tr>\n",
       "    <tr>\n",
       "      <th>36</th>\n",
       "      <td>-0.246046</td>\n",
       "      <td>0.473267</td>\n",
       "      <td>1.695738</td>\n",
       "      <td>0.262411</td>\n",
       "      <td>-0.010866</td>\n",
       "      <td>-0.610836</td>\n",
       "      <td>0.793937</td>\n",
       "      <td>-0.247253</td>\n",
       "      <td>0.138879</td>\n",
       "      <td>-0.401007</td>\n",
       "      <td>...</td>\n",
       "      <td>-0.194600</td>\n",
       "      <td>-0.335133</td>\n",
       "      <td>-0.078180</td>\n",
       "      <td>0.392784</td>\n",
       "      <td>-0.031157</td>\n",
       "      <td>0.198037</td>\n",
       "      <td>-0.175347</td>\n",
       "      <td>-0.203616</td>\n",
       "      <td>30.49</td>\n",
       "      <td>0</td>\n",
       "    </tr>\n",
       "    <tr>\n",
       "      <th>37</th>\n",
       "      <td>-1.452187</td>\n",
       "      <td>1.765124</td>\n",
       "      <td>0.611669</td>\n",
       "      <td>1.176825</td>\n",
       "      <td>-0.445980</td>\n",
       "      <td>0.246826</td>\n",
       "      <td>-0.257566</td>\n",
       "      <td>1.092472</td>\n",
       "      <td>-0.607524</td>\n",
       "      <td>0.047156</td>\n",
       "      <td>...</td>\n",
       "      <td>0.082280</td>\n",
       "      <td>0.325782</td>\n",
       "      <td>-0.069107</td>\n",
       "      <td>0.020962</td>\n",
       "      <td>-0.044668</td>\n",
       "      <td>-0.243441</td>\n",
       "      <td>0.149180</td>\n",
       "      <td>0.120557</td>\n",
       "      <td>1.80</td>\n",
       "      <td>0</td>\n",
       "    </tr>\n",
       "    <tr>\n",
       "      <th>38</th>\n",
       "      <td>0.996370</td>\n",
       "      <td>-0.122589</td>\n",
       "      <td>0.546819</td>\n",
       "      <td>0.706580</td>\n",
       "      <td>0.134560</td>\n",
       "      <td>1.156995</td>\n",
       "      <td>-0.294561</td>\n",
       "      <td>0.407429</td>\n",
       "      <td>0.337863</td>\n",
       "      <td>-0.408150</td>\n",
       "      <td>...</td>\n",
       "      <td>-0.076302</td>\n",
       "      <td>0.108867</td>\n",
       "      <td>0.162231</td>\n",
       "      <td>-0.575624</td>\n",
       "      <td>0.109795</td>\n",
       "      <td>0.373813</td>\n",
       "      <td>0.050552</td>\n",
       "      <td>0.005106</td>\n",
       "      <td>20.53</td>\n",
       "      <td>0</td>\n",
       "    </tr>\n",
       "    <tr>\n",
       "      <th>39</th>\n",
       "      <td>1.110880</td>\n",
       "      <td>0.168717</td>\n",
       "      <td>0.517144</td>\n",
       "      <td>1.325407</td>\n",
       "      <td>-0.191573</td>\n",
       "      <td>0.019504</td>\n",
       "      <td>-0.031849</td>\n",
       "      <td>0.117620</td>\n",
       "      <td>0.017665</td>\n",
       "      <td>0.044865</td>\n",
       "      <td>...</td>\n",
       "      <td>-0.037709</td>\n",
       "      <td>0.095701</td>\n",
       "      <td>-0.048198</td>\n",
       "      <td>0.232115</td>\n",
       "      <td>0.606201</td>\n",
       "      <td>-0.342097</td>\n",
       "      <td>0.036770</td>\n",
       "      <td>0.007480</td>\n",
       "      <td>6.54</td>\n",
       "      <td>0</td>\n",
       "    </tr>\n",
       "  </tbody>\n",
       "</table>\n",
       "<p>7 rows × 30 columns</p>\n",
       "</div>"
      ],
      "text/plain": [
       "          V1        V2        V3        V4        V5        V6        V7  \\\n",
       "33 -0.529912  0.873892  1.347247  0.145457  0.414209  0.100223  0.711206   \n",
       "34 -0.535388  0.865268  1.351076  0.147575  0.433680  0.086983  0.693039   \n",
       "35 -0.535388  0.865268  1.351076  0.147575  0.433680  0.086983  0.693039   \n",
       "36 -0.246046  0.473267  1.695738  0.262411 -0.010866 -0.610836  0.793937   \n",
       "37 -1.452187  1.765124  0.611669  1.176825 -0.445980  0.246826 -0.257566   \n",
       "38  0.996370 -0.122589  0.546819  0.706580  0.134560  1.156995 -0.294561   \n",
       "39  1.110880  0.168717  0.517144  1.325407 -0.191573  0.019504 -0.031849   \n",
       "\n",
       "          V8        V9       V10  ...       V21       V22       V23       V24  \\\n",
       "33  0.176066 -0.286717 -0.484688  ...  0.046949  0.208105 -0.185548  0.001031   \n",
       "34  0.179742 -0.285642 -0.482474  ...  0.049526  0.206537 -0.187108  0.000753   \n",
       "35  0.179742 -0.285642 -0.482474  ...  0.049526  0.206537 -0.187108  0.000753   \n",
       "36 -0.247253  0.138879 -0.401007  ... -0.194600 -0.335133 -0.078180  0.392784   \n",
       "37  1.092472 -0.607524  0.047156  ...  0.082280  0.325782 -0.069107  0.020962   \n",
       "38  0.407429  0.337863 -0.408150  ... -0.076302  0.108867  0.162231 -0.575624   \n",
       "39  0.117620  0.017665  0.044865  ... -0.037709  0.095701 -0.048198  0.232115   \n",
       "\n",
       "         V25       V26       V27       V28  Amount  Class  \n",
       "33  0.098816 -0.552904 -0.073288  0.023307    6.14      0  \n",
       "34  0.098117 -0.553471 -0.078306  0.025427    1.77      0  \n",
       "35  0.098117 -0.553471 -0.078306  0.025427    1.77      0  \n",
       "36 -0.031157  0.198037 -0.175347 -0.203616   30.49      0  \n",
       "37 -0.044668 -0.243441  0.149180  0.120557    1.80      0  \n",
       "38  0.109795  0.373813  0.050552  0.005106   20.53      0  \n",
       "39  0.606201 -0.342097  0.036770  0.007480    6.54      0  \n",
       "\n",
       "[7 rows x 30 columns]"
      ]
     },
     "execution_count": 7,
     "metadata": {},
     "output_type": "execute_result"
    }
   ],
   "source": [
    "df[33:40]"
   ]
  },
  {
   "cell_type": "code",
   "execution_count": 8,
   "id": "05cbb7a3",
   "metadata": {},
   "outputs": [
    {
     "data": {
      "text/plain": [
       "(284807, 30)"
      ]
     },
     "execution_count": 8,
     "metadata": {},
     "output_type": "execute_result"
    }
   ],
   "source": [
    "df.shape"
   ]
  },
  {
   "cell_type": "code",
   "execution_count": 9,
   "id": "7682392f",
   "metadata": {},
   "outputs": [
    {
     "name": "stdout",
     "output_type": "stream",
     "text": [
      "Cases\n",
      "---------------------------\n",
      "Total Non-Fraud_count is:- 284315\n",
      "Total Fraud_count is:- 492\n"
     ]
    }
   ],
   "source": [
    "nonfraud_count = len(df[df.Class == 0])\n",
    "fraud_count = len(df[df.Class == 1])\n",
    "fraud_percentage = round(nonfraud_count/fraud_count)*100\n",
    "\n",
    "print('Cases')\n",
    "print('---------------------------')\n",
    "print('Total Non-Fraud_count is:-', nonfraud_count)\n",
    "print('Total Fraud_count is:-', fraud_count)"
   ]
  },
  {
   "cell_type": "code",
   "execution_count": 10,
   "id": "d61b339c",
   "metadata": {},
   "outputs": [
    {
     "name": "stdout",
     "output_type": "stream",
     "text": [
      "False Detection Class\n",
      "---------------------\n",
      "count     492.000000\n",
      "mean      122.211321\n",
      "std       256.683288\n",
      "min         0.000000\n",
      "25%         1.000000\n",
      "50%         9.250000\n",
      "75%       105.890000\n",
      "max      2125.870000\n",
      "Name: Amount, dtype: float64 \n",
      "\n",
      "True Detection Class\n",
      "---------------------\n",
      "count    284315.000000\n",
      "mean         88.291022\n",
      "std         250.105092\n",
      "min           0.000000\n",
      "25%           5.650000\n",
      "50%          22.000000\n",
      "75%          77.050000\n",
      "max       25691.160000\n",
      "Name: Amount, dtype: float64 \n",
      "\n"
     ]
    }
   ],
   "source": [
    "false = df[df['Class']==1]\n",
    "true = df[df['Class']==0]\n",
    "\n",
    "#false detection case\n",
    "\n",
    "print('False Detection Class')\n",
    "print(\"---------------------\")\n",
    "print(false.Amount.describe(), \"\\n\")\n",
    "\n",
    "#true detection case\n",
    "\n",
    "print('True Detection Class')\n",
    "print(\"---------------------\")\n",
    "print(true.Amount.describe(), \"\\n\")"
   ]
  },
  {
   "cell_type": "code",
   "execution_count": 11,
   "id": "86c48a9f",
   "metadata": {},
   "outputs": [
    {
     "name": "stdout",
     "output_type": "stream",
     "text": [
      "Columns or Feature names :- Index(['V1', 'V2', 'V3', 'V4', 'V5', 'V6', 'V7', 'V8', 'V9', 'V10', 'V11',\n",
      "       'V12', 'V13', 'V14', 'V15', 'V16', 'V17', 'V18', 'V19', 'V20', 'V21',\n",
      "       'V22', 'V23', 'V24', 'V25', 'V26', 'V27', 'V28', 'Amount', 'Class'],\n",
      "      dtype='object')\n"
     ]
    }
   ],
   "source": [
    "#check columns\n",
    "\n",
    "print(\"Columns or Feature names :-\", df.columns)\n"
   ]
  },
  {
   "cell_type": "code",
   "execution_count": 12,
   "id": "118f8d89",
   "metadata": {},
   "outputs": [
    {
     "name": "stdout",
     "output_type": "stream",
     "text": [
      "Unique values of target variable :- [0 1]\n"
     ]
    }
   ],
   "source": [
    "#check unique values of target variable\n",
    "\n",
    "print(\"Unique values of target variable :-\", df['Class'].unique())"
   ]
  },
  {
   "cell_type": "code",
   "execution_count": 13,
   "id": "0c9771c5",
   "metadata": {},
   "outputs": [
    {
     "name": "stdout",
     "output_type": "stream",
     "text": [
      "Number of sample under each target value :- \n",
      " 0    284315\n",
      "1       492\n",
      "Name: Class, dtype: int64\n"
     ]
    }
   ],
   "source": [
    "#check number of samples under target column\n",
    "\n",
    "print(\"Number of sample under each target value :- \\n\",df['Class'].value_counts())"
   ]
  },
  {
   "cell_type": "code",
   "execution_count": 14,
   "id": "9f79585e",
   "metadata": {},
   "outputs": [
    {
     "data": {
      "text/plain": [
       "V1        0\n",
       "V2        0\n",
       "V3        0\n",
       "V4        0\n",
       "V5        0\n",
       "V6        0\n",
       "V7        0\n",
       "V8        0\n",
       "V9        0\n",
       "V10       0\n",
       "V11       0\n",
       "V12       0\n",
       "V13       0\n",
       "V14       0\n",
       "V15       0\n",
       "V16       0\n",
       "V17       0\n",
       "V18       0\n",
       "V19       0\n",
       "V20       0\n",
       "V21       0\n",
       "V22       0\n",
       "V23       0\n",
       "V24       0\n",
       "V25       0\n",
       "V26       0\n",
       "V27       0\n",
       "V28       0\n",
       "Amount    0\n",
       "Class     0\n",
       "dtype: int64"
      ]
     },
     "execution_count": 14,
     "metadata": {},
     "output_type": "execute_result"
    }
   ],
   "source": [
    "#Checking null values\n",
    "\n",
    "df.isnull().sum()"
   ]
  },
  {
   "cell_type": "markdown",
   "id": "ca44faea",
   "metadata": {},
   "source": [
    "# Data Transformation\n"
   ]
  },
  {
   "cell_type": "code",
   "execution_count": 15,
   "id": "6b37499c",
   "metadata": {},
   "outputs": [],
   "source": [
    "#data transfarmation\n",
    "sc = StandardScaler()\n",
    "amount = df['Amount'].values\n",
    "\n",
    "df['Amount'] = sc.fit_transform(amount.reshape(-1,1))"
   ]
  },
  {
   "cell_type": "code",
   "execution_count": 16,
   "id": "6df4a8cd",
   "metadata": {},
   "outputs": [
    {
     "name": "stdout",
     "output_type": "stream",
     "text": [
      "0    0.244964\n",
      "1   -0.342475\n",
      "2    1.160686\n",
      "3    0.140534\n",
      "4   -0.073403\n",
      "Name: Amount, dtype: float64\n"
     ]
    }
   ],
   "source": [
    "print(df['Amount'].head())"
   ]
  },
  {
   "cell_type": "markdown",
   "id": "5e1bd47a",
   "metadata": {},
   "source": [
    "# Splitting Dataset"
   ]
  },
  {
   "cell_type": "code",
   "execution_count": 17,
   "id": "5964b79d",
   "metadata": {},
   "outputs": [],
   "source": [
    "#splitting data set\n",
    "X = df.drop('Class', axis=1).values\n",
    "y = df['Class'].values"
   ]
  },
  {
   "cell_type": "code",
   "execution_count": 18,
   "id": "813565c7",
   "metadata": {},
   "outputs": [],
   "source": [
    "X_train, X_test, y_train, y_test = train_test_split(X,y, test_size=0.20, random_state=0)"
   ]
  },
  {
   "cell_type": "code",
   "execution_count": 19,
   "id": "53785f54",
   "metadata": {},
   "outputs": [
    {
     "name": "stdout",
     "output_type": "stream",
     "text": [
      "X_train Samples :- [[-1.11504743  1.03558276  0.80071244 -1.06039825  0.03262117  0.85342216\n",
      "  -0.61424348 -3.23116112  1.53994798 -0.81690879 -1.30559201  0.1081772\n",
      "  -0.85960958 -0.07193421  0.90665563 -1.72092961  0.79785322 -0.0067594\n",
      "   1.95677806 -0.64489557  3.02038533 -0.53961798  0.03315649 -0.77494577\n",
      "   0.10586781 -0.43085348  0.22973694 -0.0705913  -0.30145418]]\n"
     ]
    }
   ],
   "source": [
    "print('X_train Samples :-', X_train[:1])"
   ]
  },
  {
   "cell_type": "code",
   "execution_count": 20,
   "id": "73aaa310",
   "metadata": {},
   "outputs": [
    {
     "name": "stdout",
     "output_type": "stream",
     "text": [
      "X_test Samples :- [[-1.11504743  1.03558276  0.80071244 -1.06039825  0.03262117  0.85342216\n",
      "  -0.61424348 -3.23116112  1.53994798 -0.81690879 -1.30559201  0.1081772\n",
      "  -0.85960958 -0.07193421  0.90665563 -1.72092961  0.79785322 -0.0067594\n",
      "   1.95677806 -0.64489557  3.02038533 -0.53961798  0.03315649 -0.77494577\n",
      "   0.10586781 -0.43085348  0.22973694 -0.0705913  -0.30145418]]\n"
     ]
    }
   ],
   "source": [
    "print('X_test Samples :-', X_train[0:1])"
   ]
  },
  {
   "cell_type": "code",
   "execution_count": 21,
   "id": "cbc086fc",
   "metadata": {},
   "outputs": [
    {
     "name": "stdout",
     "output_type": "stream",
     "text": [
      "y_train Samples :- [0 0 0 0 0 0 0 0 0 0 0 0 0 0 0 0 0 0 0 0 0 0 0 0 0 0 0 0 0 0 0 0 0 0 0 0 0\n",
      " 0 0 0 0 0 0 0 0 0 0 0 0 0 0 0 0 0 0 0 0 0 0 0 0 0 0 0 0 0 0 0 0 0]\n"
     ]
    }
   ],
   "source": [
    "print('y_train Samples :-', y_train[0:70])"
   ]
  },
  {
   "cell_type": "code",
   "execution_count": 22,
   "id": "6d316ea3",
   "metadata": {},
   "outputs": [
    {
     "name": "stdout",
     "output_type": "stream",
     "text": [
      "y_test Samples :- [0 0 0 0 0 0 0 0 0 0 0 0 0 0 0 0 0 0 0 0 0 0 0 0 0 0 0 0 0 0]\n"
     ]
    }
   ],
   "source": [
    "print('y_test Samples :-', y_test[0:30])\n"
   ]
  },
  {
   "cell_type": "code",
   "execution_count": 23,
   "id": "84ccddf7",
   "metadata": {},
   "outputs": [
    {
     "name": "stdout",
     "output_type": "stream",
     "text": [
      "Shape of X_Train dataset\n",
      "----------------------\n",
      "(227845, 29)\n",
      "Shape of y_Train dataset\n",
      "----------------------\n",
      "(227845,)\n",
      "Shape of X_Test dataset\n",
      "----------------------\n",
      "(56962, 29)\n",
      "Shape of y_Test dataset\n",
      "----------------------\n",
      "(56962,)\n"
     ]
    }
   ],
   "source": [
    "print('Shape of X_Train dataset')\n",
    "print('----------------------')\n",
    "print(X_train.shape)\n",
    "\n",
    "print('Shape of y_Train dataset')\n",
    "print('----------------------')\n",
    "print(y_train.shape)\n",
    "\n",
    "\n",
    "print('Shape of X_Test dataset')\n",
    "print('----------------------')\n",
    "print(X_test.shape)\n",
    "\n",
    "print('Shape of y_Test dataset')\n",
    "print('----------------------')\n",
    "print(y_test.shape)"
   ]
  },
  {
   "cell_type": "markdown",
   "id": "34275148",
   "metadata": {},
   "source": [
    "# Modeling"
   ]
  },
  {
   "cell_type": "markdown",
   "id": "afbc2bda",
   "metadata": {},
   "source": [
    "# Decision Tree"
   ]
  },
  {
   "cell_type": "code",
   "execution_count": 24,
   "id": "4405cd08",
   "metadata": {},
   "outputs": [],
   "source": [
    "tree_model = DecisionTreeClassifier(max_depth=6, criterion='entropy')\n",
    "tree_model.fit(X_train, y_train)\n",
    "tree_pred = tree_model.predict(X_test)"
   ]
  },
  {
   "cell_type": "code",
   "execution_count": 25,
   "id": "45d3938b",
   "metadata": {},
   "outputs": [
    {
     "name": "stdout",
     "output_type": "stream",
     "text": [
      "-----------Accuracy Score-----------\n",
      "Accuracy score of the decision tree 0.999385555282469\n"
     ]
    }
   ],
   "source": [
    "print('-----------Accuracy Score-----------')\n",
    "print('Accuracy score of the decision tree', (accuracy_score(y_test, tree_pred)))"
   ]
  },
  {
   "cell_type": "code",
   "execution_count": 26,
   "id": "cf242603",
   "metadata": {},
   "outputs": [
    {
     "name": "stdout",
     "output_type": "stream",
     "text": [
      "-----------F1 Score-----------\n",
      "F1 score of the decision tree 0.8186528497409327\n"
     ]
    }
   ],
   "source": [
    "print('-----------F1 Score-----------')\n",
    "print('F1 score of the decision tree', (f1_score(y_test, tree_pred)))"
   ]
  },
  {
   "cell_type": "code",
   "execution_count": 27,
   "id": "b63055a4",
   "metadata": {},
   "outputs": [
    {
     "name": "stdout",
     "output_type": "stream",
     "text": [
      "-----------Confusion Matrix-----------\n",
      "Confusion Matrix of the decision tree :- \n",
      " [[56848    13]\n",
      " [   22    79]]\n"
     ]
    }
   ],
   "source": [
    "print('-----------Confusion Matrix-----------')\n",
    "print('Confusion Matrix of the decision tree :- \\n', (confusion_matrix(y_test, tree_pred)))"
   ]
  },
  {
   "cell_type": "code",
   "execution_count": 28,
   "id": "bca0d7a8",
   "metadata": {},
   "outputs": [
    {
     "data": {
      "image/png": "[encoded data removed]",
      "text/plain": [
       "<Figure size 432x288 with 2 Axes>"
      ]
     },
     "metadata": {
      "needs_background": "light"
     },
     "output_type": "display_data"
    }
   ],
   "source": [
    "cm = confusion_matrix(y_test, tree_pred)\n",
    "fig, ax = plt.subplots(figsize=(6,4))\n",
    "sns.heatmap(cm, annot=True)\n",
    "plt.show()"
   ]
  },
  {
   "cell_type": "code",
   "execution_count": 29,
   "id": "0a7470db",
   "metadata": {},
   "outputs": [
    {
     "name": "stdout",
     "output_type": "stream",
     "text": [
      "-----------Classification Report-----------\n",
      "Confusion Matrix of the decision tree :- \n",
      "               precision    recall  f1-score   support\n",
      "\n",
      "           0       1.00      1.00      1.00     56861\n",
      "           1       0.86      0.78      0.82       101\n",
      "\n",
      "    accuracy                           1.00     56962\n",
      "   macro avg       0.93      0.89      0.91     56962\n",
      "weighted avg       1.00      1.00      1.00     56962\n",
      "\n"
     ]
    }
   ],
   "source": [
    "print('-----------Classification Report-----------')\n",
    "print('Confusion Matrix of the decision tree :- \\n', (classification_report(y_test, tree_pred)))"
   ]
  },
  {
   "cell_type": "markdown",
   "id": "79b3fd41",
   "metadata": {},
   "source": [
    "# Logistic Regression"
   ]
  },
  {
   "cell_type": "code",
   "execution_count": 30,
   "id": "c10a2017",
   "metadata": {},
   "outputs": [],
   "source": [
    "lr = LogisticRegression()\n",
    "lr.fit(X_train, y_train)\n",
    "lr_pred = lr.predict(X_test)"
   ]
  },
  {
   "cell_type": "code",
   "execution_count": 31,
   "id": "daf6c615",
   "metadata": {},
   "outputs": [
    {
     "name": "stdout",
     "output_type": "stream",
     "text": [
      "-----------Accuracy Score-----------\n",
      "Accuracy score of the Logistic Regression 0.9991924440855307\n"
     ]
    }
   ],
   "source": [
    "print('-----------Accuracy Score-----------')\n",
    "print('Accuracy score of the Logistic Regression', (accuracy_score(y_test, lr_pred)))"
   ]
  },
  {
   "cell_type": "code",
   "execution_count": 32,
   "id": "c9561cff",
   "metadata": {},
   "outputs": [
    {
     "name": "stdout",
     "output_type": "stream",
     "text": [
      "-----------F1 Score-----------\n",
      "F1 score of the logistic regression 0.7356321839080459\n"
     ]
    }
   ],
   "source": [
    "print('-----------F1 Score-----------')\n",
    "print('F1 score of the logistic regression', (f1_score(y_test, lr_pred)))"
   ]
  },
  {
   "cell_type": "code",
   "execution_count": 33,
   "id": "c18439c0",
   "metadata": {},
   "outputs": [
    {
     "name": "stdout",
     "output_type": "stream",
     "text": [
      "-----------Confusion Matrix-----------\n",
      "Confusion Matrix of the logistic regression :- \n",
      " [[56852     9]\n",
      " [   37    64]]\n"
     ]
    }
   ],
   "source": [
    "print('-----------Confusion Matrix-----------')\n",
    "print('Confusion Matrix of the logistic regression :- \\n', (confusion_matrix(y_test, lr_pred)))"
   ]
  },
  {
   "cell_type": "code",
   "execution_count": 34,
   "id": "3a42f4d8",
   "metadata": {},
   "outputs": [
    {
     "name": "stdout",
     "output_type": "stream",
     "text": [
      "logistic Regression classification :-\n",
      "               precision    recall  f1-score   support\n",
      "\n",
      "           0       1.00      1.00      1.00     56861\n",
      "           1       0.88      0.63      0.74       101\n",
      "\n",
      "    accuracy                           1.00     56962\n",
      "   macro avg       0.94      0.82      0.87     56962\n",
      "weighted avg       1.00      1.00      1.00     56962\n",
      "\n"
     ]
    }
   ],
   "source": [
    "print('logistic Regression classification :-\\n',(classification_report(y_test, lr_pred)))\n"
   ]
  },
  {
   "cell_type": "code",
   "execution_count": 35,
   "id": "29be83c3",
   "metadata": {},
   "outputs": [
    {
     "data": {
      "image/png": "[encoded data removed]",
      "text/plain": [
       "<Figure size 432x288 with 2 Axes>"
      ]
     },
     "metadata": {
      "needs_background": "light"
     },
     "output_type": "display_data"
    }
   ],
   "source": [
    "cm = confusion_matrix(y_test, lr_pred)\n",
    "fig, ax = plt.subplots(figsize=(6,4))\n",
    "sns.heatmap(cm, annot=True)\n",
    "plt.show()"
   ]
  },
  {
   "cell_type": "markdown",
   "id": "689d3662",
   "metadata": {},
   "source": [
    "# Random Forest"
   ]
  },
  {
   "cell_type": "code",
   "execution_count": 36,
   "id": "feeaa381",
   "metadata": {},
   "outputs": [],
   "source": [
    "rf = RandomForestClassifier()\n",
    "rf.fit(X_train, y_train)\n",
    "rf_pred = rf.predict(X_test)"
   ]
  },
  {
   "cell_type": "code",
   "execution_count": 37,
   "id": "cdc732b8",
   "metadata": {},
   "outputs": [
    {
     "name": "stdout",
     "output_type": "stream",
     "text": [
      "-----------Accuracy Score-----------\n",
      "Accuracy score of the Random Forest 0.9995259997893332\n"
     ]
    }
   ],
   "source": [
    "print('-----------Accuracy Score-----------')\n",
    "print('Accuracy score of the Random Forest', (accuracy_score(y_test, rf_pred)))"
   ]
  },
  {
   "cell_type": "code",
   "execution_count": 38,
   "id": "3bc77139",
   "metadata": {},
   "outputs": [
    {
     "name": "stdout",
     "output_type": "stream",
     "text": [
      "-----------F1 Score-----------\n",
      "F1 score of the random forest 0.8571428571428572\n"
     ]
    }
   ],
   "source": [
    "print('-----------F1 Score-----------')\n",
    "print('F1 score of the random forest', (f1_score(y_test, rf_pred)))"
   ]
  },
  {
   "cell_type": "code",
   "execution_count": 39,
   "id": "c6cde3ee",
   "metadata": {},
   "outputs": [
    {
     "name": "stdout",
     "output_type": "stream",
     "text": [
      "-----------Confusion Matrix-----------\n",
      "Confusion Matrix of the random forest :- \n",
      " [[56854     7]\n",
      " [   20    81]]\n"
     ]
    }
   ],
   "source": [
    "print('-----------Confusion Matrix-----------')\n",
    "print('Confusion Matrix of the random forest :- \\n', (confusion_matrix(y_test, rf_pred)))"
   ]
  },
  {
   "cell_type": "code",
   "execution_count": 40,
   "id": "d32c95c1",
   "metadata": {},
   "outputs": [
    {
     "name": "stdout",
     "output_type": "stream",
     "text": [
      "-----------Classification Report-----------\n",
      "Confusion Matrix of the random forest :- \n",
      "               precision    recall  f1-score   support\n",
      "\n",
      "           0       1.00      1.00      1.00     56861\n",
      "           1       0.92      0.80      0.86       101\n",
      "\n",
      "    accuracy                           1.00     56962\n",
      "   macro avg       0.96      0.90      0.93     56962\n",
      "weighted avg       1.00      1.00      1.00     56962\n",
      "\n"
     ]
    }
   ],
   "source": [
    "print('-----------Classification Report-----------')\n",
    "print('Confusion Matrix of the random forest :- \\n', (classification_report(y_test, rf_pred)))"
   ]
  },
  {
   "cell_type": "code",
   "execution_count": 41,
   "id": "bbf1ae4e",
   "metadata": {},
   "outputs": [
    {
     "data": {
      "image/png": "[encoded data removed]",
      "text/plain": [
       "<Figure size 432x288 with 2 Axes>"
      ]
     },
     "metadata": {
      "needs_background": "light"
     },
     "output_type": "display_data"
    }
   ],
   "source": [
    "cm = confusion_matrix(y_test, rf_pred)\n",
    "fig, ax = plt.subplots(figsize=(6,4))\n",
    "sns.heatmap(cm, annot=True)\n",
    "plt.show()"
   ]
  },
  {
   "cell_type": "markdown",
   "id": "7c39e9a3",
   "metadata": {},
   "source": [
    "# Support Vector Machine"
   ]
  },
  {
   "cell_type": "code",
   "execution_count": 43,
   "id": "e9d8667d",
   "metadata": {},
   "outputs": [],
   "source": [
    "sv = SVC()\n",
    "sv.fit(X_train, y_train)\n",
    "sv_pred = sv.predict(X_test)"
   ]
  },
  {
   "cell_type": "code",
   "execution_count": 44,
   "id": "00c33d45",
   "metadata": {},
   "outputs": [
    {
     "name": "stdout",
     "output_type": "stream",
     "text": [
      "----------Accuracy score---------\n",
      "accuracy score of SVM 0.9993153330290369\n"
     ]
    }
   ],
   "source": [
    "print('----------Accuracy score---------')\n",
    "print('accuracy score of SVM',(accuracy_score(y_test,sv_pred)))"
   ]
  },
  {
   "cell_type": "code",
   "execution_count": 45,
   "id": "2029ff7e",
   "metadata": {},
   "outputs": [
    {
     "name": "stdout",
     "output_type": "stream",
     "text": [
      "----------F1 score---------\n",
      "F1 score of SVM 0.7771428571428572\n"
     ]
    }
   ],
   "source": [
    "print('----------F1 score---------')\n",
    "print('F1 score of SVM', (f1_score(y_test, sv_pred)))"
   ]
  },
  {
   "cell_type": "code",
   "execution_count": 46,
   "id": "3619bdc3",
   "metadata": {},
   "outputs": [
    {
     "name": "stdout",
     "output_type": "stream",
     "text": [
      "----------Confusion Matrix--------\n",
      "confusion matrix of SVM:- \n",
      " [[56855     6]\n",
      " [   33    68]]\n"
     ]
    }
   ],
   "source": [
    "print('----------Confusion Matrix--------')\n",
    "print('confusion matrix of SVM:- \\n', (confusion_matrix(y_test, sv_pred)))"
   ]
  },
  {
   "cell_type": "code",
   "execution_count": 47,
   "id": "916ac07e",
   "metadata": {},
   "outputs": [
    {
     "name": "stdout",
     "output_type": "stream",
     "text": [
      "SVM classification report :-\n",
      "               precision    recall  f1-score   support\n",
      "\n",
      "           0       1.00      1.00      1.00     56861\n",
      "           1       0.92      0.67      0.78       101\n",
      "\n",
      "    accuracy                           1.00     56962\n",
      "   macro avg       0.96      0.84      0.89     56962\n",
      "weighted avg       1.00      1.00      1.00     56962\n",
      "\n"
     ]
    }
   ],
   "source": [
    "print(\"SVM classification report :-\\n\", (classification_report(y_test, sv_pred)))"
   ]
  },
  {
   "cell_type": "code",
   "execution_count": 48,
   "id": "d3330521",
   "metadata": {},
   "outputs": [
    {
     "data": {
      "image/png": "[encoded data removed]",
      "text/plain": [
       "<Figure size 432x288 with 2 Axes>"
      ]
     },
     "metadata": {
      "needs_background": "light"
     },
     "output_type": "display_data"
    }
   ],
   "source": [
    "cm = confusion_matrix(y_test, sv_pred)\n",
    "fig, ax = plt.subplots(figsize=(6,4))\n",
    "sns.heatmap(cm, annot=True)\n",
    "plt.show()"
   ]
  },
  {
   "cell_type": "markdown",
   "id": "4bb47d8c",
   "metadata": {},
   "source": [
    "# K-NN"
   ]
  },
  {
   "cell_type": "code",
   "execution_count": 49,
   "id": "b1bc290b",
   "metadata": {},
   "outputs": [],
   "source": [
    "knn = KNeighborsClassifier()\n",
    "knn.fit(X_train, y_train)\n",
    "knn_pred = knn.predict(X_test)"
   ]
  },
  {
   "cell_type": "code",
   "execution_count": 50,
   "id": "c9e0b24d",
   "metadata": {},
   "outputs": [
    {
     "name": "stdout",
     "output_type": "stream",
     "text": [
      "-------Accuracy Score-------\n",
      "accuracy score of KNN is 0.9995259997893332\n"
     ]
    }
   ],
   "source": [
    "print('-------Accuracy Score-------')\n",
    "print('accuracy score of KNN is',(accuracy_score(y_test,knn_pred)))"
   ]
  },
  {
   "cell_type": "code",
   "execution_count": 51,
   "id": "e92387c3",
   "metadata": {},
   "outputs": [
    {
     "name": "stdout",
     "output_type": "stream",
     "text": [
      "------F1 Score------------\n",
      "F1 score of KNN is 0.8571428571428572\n"
     ]
    }
   ],
   "source": [
    "print('------F1 Score------------')\n",
    "print('F1 score of KNN is',(f1_score(y_test,knn_pred)))"
   ]
  },
  {
   "cell_type": "code",
   "execution_count": 52,
   "id": "c2b0cc86",
   "metadata": {},
   "outputs": [
    {
     "name": "stdout",
     "output_type": "stream",
     "text": [
      "------Confusion Matrix--------\n",
      "Confusion Matrix of KNN is :- \n",
      " [[56854     7]\n",
      " [   20    81]]\n"
     ]
    }
   ],
   "source": [
    "print('------Confusion Matrix--------')\n",
    "print('Confusion Matrix of KNN is :- \\n',(confusion_matrix(y_test, knn_pred)))"
   ]
  },
  {
   "cell_type": "code",
   "execution_count": 53,
   "id": "5b194f3e",
   "metadata": {},
   "outputs": [
    {
     "name": "stdout",
     "output_type": "stream",
     "text": [
      "confusion matrix of knn classification report :- \n",
      "                precision    recall  f1-score   support\n",
      "\n",
      "           0       1.00      1.00      1.00     56861\n",
      "           1       0.92      0.80      0.86       101\n",
      "\n",
      "    accuracy                           1.00     56962\n",
      "   macro avg       0.96      0.90      0.93     56962\n",
      "weighted avg       1.00      1.00      1.00     56962\n",
      "\n"
     ]
    }
   ],
   "source": [
    "print('confusion matrix of knn classification report :- \\n ', (classification_report(y_test,knn_pred)))"
   ]
  },
  {
   "cell_type": "code",
   "execution_count": 54,
   "id": "a91ba39b",
   "metadata": {},
   "outputs": [
    {
     "data": {
      "image/png": "[encoded data removed]",
      "text/plain": [
       "<Figure size 432x288 with 2 Axes>"
      ]
     },
     "metadata": {
      "needs_background": "light"
     },
     "output_type": "display_data"
    }
   ],
   "source": [
    "cm = confusion_matrix(y_test,knn_pred)\n",
    "fig, ax = plt.subplots(figsize = (6,4))\n",
    "sns.heatmap(cm, annot = True)\n",
    "plt.show()"
   ]
  },
  {
   "cell_type": "markdown",
   "id": "c34267de",
   "metadata": {},
   "source": [
    "# ROC - AUC Curve"
   ]
  },
  {
   "cell_type": "code",
   "execution_count": 55,
   "id": "2f5b86d5",
   "metadata": {},
   "outputs": [],
   "source": [
    "from sklearn.metrics import roc_auc_score, roc_curve"
   ]
  },
  {
   "cell_type": "markdown",
   "id": "9c2a42d4",
   "metadata": {},
   "source": [
    "# Decision Tree ROC-AUC Curve"
   ]
  },
  {
   "cell_type": "code",
   "execution_count": 56,
   "id": "b22c14e1",
   "metadata": {},
   "outputs": [],
   "source": [
    "score = roc_auc_score(y_test, tree_pred)"
   ]
  },
  {
   "cell_type": "code",
   "execution_count": 57,
   "id": "19d43222",
   "metadata": {},
   "outputs": [
    {
     "name": "stdout",
     "output_type": "stream",
     "text": [
      "ROC-AUC Score is:- 0.8909747950578107\n"
     ]
    }
   ],
   "source": [
    "print('ROC-AUC Score is:-', score)"
   ]
  },
  {
   "cell_type": "code",
   "execution_count": 58,
   "id": "0ba8f537",
   "metadata": {},
   "outputs": [],
   "source": [
    "fpr, tpr, thresholds = roc_curve(y_test, tree_pred)"
   ]
  },
  {
   "cell_type": "code",
   "execution_count": 59,
   "id": "2b6d172b",
   "metadata": {},
   "outputs": [
    {
     "data": {
      "image/png": "[encoded data removed]",
      "text/plain": [
       "<Figure size 432x288 with 1 Axes>"
      ]
     },
     "metadata": {
      "needs_background": "light"
     },
     "output_type": "display_data"
    }
   ],
   "source": [
    "plt.plot(fpr, tpr, label='ROC Curve (area=%0.2f)' % score)\n",
    "plt.plot([0,1], [0,1], 'k--')\n",
    "plt.legend()\n",
    "plt.show()"
   ]
  },
  {
   "cell_type": "markdown",
   "id": "7b943b69",
   "metadata": {},
   "source": [
    "# Random Forest"
   ]
  },
  {
   "cell_type": "code",
   "execution_count": 60,
   "id": "c15cdce1",
   "metadata": {},
   "outputs": [
    {
     "name": "stdout",
     "output_type": "stream",
     "text": [
      "ROC-AUC Score is:- 0.9009285453967039\n"
     ]
    }
   ],
   "source": [
    "rf_score = roc_auc_score(y_test, rf_pred)\n",
    "print('ROC-AUC Score is:-', rf_score)"
   ]
  },
  {
   "cell_type": "code",
   "execution_count": 61,
   "id": "5137367a",
   "metadata": {},
   "outputs": [
    {
     "data": {
      "image/png": "[encoded data removed]",
      "text/plain": [
       "<Figure size 432x288 with 1 Axes>"
      ]
     },
     "metadata": {
      "needs_background": "light"
     },
     "output_type": "display_data"
    }
   ],
   "source": [
    "fpr, tpr, thresholds = roc_curve(y_test, rf_pred)\n",
    "plt.plot(fpr, tpr, label='ROC Curve (area=%0.2f)' % rf_score)\n",
    "plt.plot([0,1], [0,1], 'k--')\n",
    "plt.legend()\n",
    "plt.show()"
   ]
  },
  {
   "cell_type": "markdown",
   "id": "909adfe0",
   "metadata": {},
   "source": [
    "# SVM ROC_AUC Curve"
   ]
  },
  {
   "cell_type": "code",
   "execution_count": 62,
   "id": "debd0076",
   "metadata": {},
   "outputs": [],
   "source": [
    "from sklearn.metrics import roc_auc_score, roc_curve"
   ]
  },
  {
   "cell_type": "code",
   "execution_count": 63,
   "id": "01084057",
   "metadata": {},
   "outputs": [
    {
     "name": "stdout",
     "output_type": "stream",
     "text": [
      "ROC-AUC Score is:- 0.8365809031264535\n"
     ]
    }
   ],
   "source": [
    "sv_score = roc_auc_score(y_test, sv_pred)\n",
    "print('ROC-AUC Score is:-', sv_score)"
   ]
  },
  {
   "cell_type": "code",
   "execution_count": 64,
   "id": "d74cda60",
   "metadata": {},
   "outputs": [
    {
     "data": {
      "image/png": "[encoded data removed]",
      "text/plain": [
       "<Figure size 432x288 with 1 Axes>"
      ]
     },
     "metadata": {
      "needs_background": "light"
     },
     "output_type": "display_data"
    }
   ],
   "source": [
    "fpr, tpr, thresholds = roc_curve(y_test, sv_pred)\n",
    "plt.plot(fpr, tpr, label='ROC Curve (area=%0.2f)' % sv_score)\n",
    "plt.plot([0,1], [0,1], 'k--')\n",
    "plt.legend()\n",
    "plt.show()"
   ]
  },
  {
   "cell_type": "markdown",
   "id": "9e3ffc79",
   "metadata": {},
   "source": [
    "# K-NN ROC_AUC Curve"
   ]
  },
  {
   "cell_type": "code",
   "execution_count": 65,
   "id": "9fc5c5b5",
   "metadata": {},
   "outputs": [
    {
     "name": "stdout",
     "output_type": "stream",
     "text": [
      "ROC-AUC Score is:- 0.9009285453967039\n"
     ]
    }
   ],
   "source": [
    "knn_score = roc_auc_score(y_test, knn_pred)\n",
    "print('ROC-AUC Score is:-', knn_score)"
   ]
  },
  {
   "cell_type": "code",
   "execution_count": 66,
   "id": "73c69a3d",
   "metadata": {},
   "outputs": [
    {
     "data": {
      "image/png": "[encoded data removed]",
      "text/plain": [
       "<Figure size 432x288 with 1 Axes>"
      ]
     },
     "metadata": {
      "needs_background": "light"
     },
     "output_type": "display_data"
    }
   ],
   "source": [
    "fpr, tpr, thresholds = roc_curve(y_test, knn_pred)\n",
    "plt.plot(fpr, tpr, label='ROC Curve (area=%0.2f)' % knn_score)\n",
    "plt.plot([0,1], [0,1], 'k--')\n",
    "plt.legend()\n",
    "plt.show()"
   ]
  },
  {
   "cell_type": "markdown",
   "id": "427386af",
   "metadata": {},
   "source": [
    "# Logistic Regression ROC_AUC Curve"
   ]
  },
  {
   "cell_type": "code",
   "execution_count": 67,
   "id": "bfeb2d2b",
   "metadata": {},
   "outputs": [
    {
     "name": "stdout",
     "output_type": "stream",
     "text": [
      "ROC-AUC Score is:- 0.8365809031264535\n"
     ]
    }
   ],
   "source": [
    "lr_score = roc_auc_score(y_test, sv_pred)\n",
    "print('ROC-AUC Score is:-', lr_score)"
   ]
  },
  {
   "cell_type": "code",
   "execution_count": 68,
   "id": "9591b2a0",
   "metadata": {},
   "outputs": [
    {
     "data": {
      "image/png": "[encoded data removed]",
      "text/plain": [
       "<Figure size 432x288 with 1 Axes>"
      ]
     },
     "metadata": {
      "needs_background": "light"
     },
     "output_type": "display_data"
    }
   ],
   "source": [
    "fpr, tpr, thresholds = roc_curve(y_test, lr_pred)\n",
    "plt.plot(fpr, tpr, label='ROC Curve (area=%0.2f)' % sv_score)\n",
    "plt.plot([0,1], [0,1], 'k--')\n",
    "plt.legend()\n",
    "plt.show()"
   ]
  },
  {
   "cell_type": "markdown",
   "id": "753bb83e",
   "metadata": {},
   "source": [
    "# Traing Time"
   ]
  },
  {
   "cell_type": "code",
   "execution_count": 69,
   "id": "c0adefde",
   "metadata": {},
   "outputs": [
    {
     "name": "stdout",
     "output_type": "stream",
     "text": [
      "Training time: 1.5567049980163574s\n"
     ]
    }
   ],
   "source": [
    "#Logistic Regression Classifier\n",
    "from sklearn.linear_model import LogisticRegression\n",
    "import time\n",
    "classifier = LogisticRegression(random_state = 0) \n",
    "start = time.time()\n",
    "classifier.fit(X_train,y_train) \n",
    "stop = time.time()\n",
    "print(f\"Training time: {stop - start}s\")"
   ]
  },
  {
   "cell_type": "code",
   "execution_count": 70,
   "id": "d1f377a5",
   "metadata": {},
   "outputs": [
    {
     "name": "stdout",
     "output_type": "stream",
     "text": [
      "Training time: 0.035440921783447266s\n"
     ]
    }
   ],
   "source": [
    "#K-nn classifier\n",
    "from sklearn.neighbors import KNeighborsClassifier\n",
    "import time\n",
    "classifier = KNeighborsClassifier() \n",
    "start = time.time()\n",
    "classifier.fit(X_train,y_train) \n",
    "stop = time.time()\n",
    "print(f\"Training time: {stop - start}s\")"
   ]
  },
  {
   "cell_type": "code",
   "execution_count": 71,
   "id": "55e81bb3",
   "metadata": {},
   "outputs": [
    {
     "name": "stdout",
     "output_type": "stream",
     "text": [
      "Training time: 177.59364819526672s\n"
     ]
    }
   ],
   "source": [
    "#Create a RandomForest Classifier\n",
    "from sklearn.ensemble import RandomForestClassifier\n",
    "clf=RandomForestClassifier()\n",
    "start = time.time()\n",
    "#Train the model using the training sets y_pred=clf.predict(X_test)\n",
    "clf.fit(X_train,y_train)\n",
    "stop = time.time()\n",
    "print(f\"Training time: {stop - start}s\")"
   ]
  },
  {
   "cell_type": "code",
   "execution_count": 72,
   "id": "a432bc9d",
   "metadata": {},
   "outputs": [
    {
     "name": "stdout",
     "output_type": "stream",
     "text": [
      "Training time: 5334.310283899307s\n"
     ]
    }
   ],
   "source": [
    "#Support Vector Classifier \n",
    "from sklearn.svm import SVC \n",
    "clf = SVC(kernel='linear') \n",
    "start = time.time() \n",
    "# fitting x samples and y classes \n",
    "clf.fit(X_train,y_train)\n",
    "stop = time.time()\n",
    "print(f\"Training time: {stop - start}s\") "
   ]
  },
  {
   "cell_type": "code",
   "execution_count": 73,
   "id": "7b8818cc",
   "metadata": {},
   "outputs": [
    {
     "name": "stdout",
     "output_type": "stream",
     "text": [
      "Training time: 28.794553518295288s\n"
     ]
    }
   ],
   "source": [
    "# Create Decision Tree classifier object\n",
    "import time\n",
    "clf = DecisionTreeClassifier()\n",
    "# Train Decision Tree Classifier\n",
    "start = time.time()\n",
    "clf = clf.fit(X_train,y_train)\n",
    "stop = time.time()\n",
    "print(f\"Training time: {stop - start}s\")"
   ]
  },
  {
   "cell_type": "code",
   "execution_count": null,
   "id": "38886bd0",
   "metadata": {},
   "outputs": [],
   "source": []
  }
 ],
 "metadata": {
  "kernelspec": {
   "display_name": "Python 3 (ipykernel)",
   "language": "python",
   "name": "python3"
  },
  "language_info": {
   "codemirror_mode": {
    "name": "ipython",
    "version": 3
   },
   "file_extension": ".py",
   "mimetype": "text/x-python",
   "name": "python",
   "nbconvert_exporter": "python",
   "pygments_lexer": "ipython3",
   "version": "3.8.8"
  }
 },
 "nbformat": 4,
 "nbformat_minor": 5
}
